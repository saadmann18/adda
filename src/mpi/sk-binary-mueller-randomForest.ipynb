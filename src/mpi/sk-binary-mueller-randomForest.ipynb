{
 "cells": [
  {
   "cell_type": "markdown",
   "id": "87475d55",
   "metadata": {},
   "source": [
    "## Random Forest Classifier"
   ]
  },
  {
   "cell_type": "code",
   "execution_count": 1,
   "id": "245325ba",
   "metadata": {},
   "outputs": [],
   "source": [
    "import pandas as pd\n",
    "import numpy as np\n",
    "\n",
    "from sklearn.model_selection import train_test_split\n",
    "from sklearn.ensemble import RandomForestClassifier\n",
    "from sklearn.datasets import make_classification"
   ]
  },
  {
   "cell_type": "code",
   "execution_count": 2,
   "id": "33257171",
   "metadata": {},
   "outputs": [
    {
     "data": {
      "text/html": [
       "<div>\n",
       "<style scoped>\n",
       "    .dataframe tbody tr th:only-of-type {\n",
       "        vertical-align: middle;\n",
       "    }\n",
       "\n",
       "    .dataframe tbody tr th {\n",
       "        vertical-align: top;\n",
       "    }\n",
       "\n",
       "    .dataframe thead th {\n",
       "        text-align: right;\n",
       "    }\n",
       "</style>\n",
       "<table border=\"1\" class=\"dataframe\">\n",
       "  <thead>\n",
       "    <tr style=\"text-align: right;\">\n",
       "      <th></th>\n",
       "      <th>folder_path</th>\n",
       "      <th>Geometry</th>\n",
       "      <th>degrees</th>\n",
       "      <th>S11</th>\n",
       "      <th>-S21/S11</th>\n",
       "      <th>y/x</th>\n",
       "      <th>z/x</th>\n",
       "      <th>orient</th>\n",
       "      <th>label</th>\n",
       "    </tr>\n",
       "  </thead>\n",
       "  <tbody>\n",
       "    <tr>\n",
       "      <th>0</th>\n",
       "      <td>/home/saad/adda/adda/src/mpi/ellipsoid/593</td>\n",
       "      <td>ellipsoid</td>\n",
       "      <td>[0.0, 0.5, 1.0, 1.5, 2.0, 2.5, 3.0, 3.5, 4.0, ...</td>\n",
       "      <td>[579.32169002, 578.37349215, 576.67413162, 574...</td>\n",
       "      <td>[-0.0025284434011946474, -0.002467295578494295...</td>\n",
       "      <td>NaN</td>\n",
       "      <td>NaN</td>\n",
       "      <td>NaN</td>\n",
       "      <td>0</td>\n",
       "    </tr>\n",
       "    <tr>\n",
       "      <th>1</th>\n",
       "      <td>/home/saad/adda/adda/src/mpi/ellipsoid/530</td>\n",
       "      <td>ellipsoid</td>\n",
       "      <td>[0.0, 0.5, 1.0, 1.5, 2.0, 2.5, 3.0, 3.5, 4.0, ...</td>\n",
       "      <td>[720.6810315, 719.07723358, 716.20631705, 712....</td>\n",
       "      <td>[0.03716253757124174, 0.03706868468397214, 0.0...</td>\n",
       "      <td>NaN</td>\n",
       "      <td>NaN</td>\n",
       "      <td>NaN</td>\n",
       "      <td>0</td>\n",
       "    </tr>\n",
       "    <tr>\n",
       "      <th>2</th>\n",
       "      <td>/home/saad/adda/adda/src/mpi/ellipsoid/192</td>\n",
       "      <td>ellipsoid</td>\n",
       "      <td>[0.0, 0.5, 1.0, 1.5, 2.0, 2.5, 3.0, 3.5, 4.0, ...</td>\n",
       "      <td>[507.6610584, 510.68503502, 513.33229809, 515....</td>\n",
       "      <td>[0.1141060166571957, 0.10851485728151346, 0.10...</td>\n",
       "      <td>NaN</td>\n",
       "      <td>NaN</td>\n",
       "      <td>NaN</td>\n",
       "      <td>0</td>\n",
       "    </tr>\n",
       "    <tr>\n",
       "      <th>3</th>\n",
       "      <td>/home/saad/adda/adda/src/mpi/ellipsoid/301</td>\n",
       "      <td>ellipsoid</td>\n",
       "      <td>[0.0, 0.5, 1.0, 1.5, 2.0, 2.5, 3.0, 3.5, 4.0, ...</td>\n",
       "      <td>[1258.4713395, 1260.4825706, 1258.4108878, 125...</td>\n",
       "      <td>[0.02651052823042856, 0.02678376353822151, 0.0...</td>\n",
       "      <td>NaN</td>\n",
       "      <td>NaN</td>\n",
       "      <td>NaN</td>\n",
       "      <td>0</td>\n",
       "    </tr>\n",
       "    <tr>\n",
       "      <th>4</th>\n",
       "      <td>/home/saad/adda/adda/src/mpi/ellipsoid/315</td>\n",
       "      <td>ellipsoid</td>\n",
       "      <td>[0.0, 0.5, 1.0, 1.5, 2.0, 2.5, 3.0, 3.5, 4.0, ...</td>\n",
       "      <td>[246.16756173, 245.07402439, 243.66840688, 241...</td>\n",
       "      <td>[0.006683321859053457, 0.0061782237487988225, ...</td>\n",
       "      <td>NaN</td>\n",
       "      <td>NaN</td>\n",
       "      <td>NaN</td>\n",
       "      <td>0</td>\n",
       "    </tr>\n",
       "    <tr>\n",
       "      <th>...</th>\n",
       "      <td>...</td>\n",
       "      <td>...</td>\n",
       "      <td>...</td>\n",
       "      <td>...</td>\n",
       "      <td>...</td>\n",
       "      <td>...</td>\n",
       "      <td>...</td>\n",
       "      <td>...</td>\n",
       "      <td>...</td>\n",
       "    </tr>\n",
       "    <tr>\n",
       "      <th>1826</th>\n",
       "      <td>/home/saad/adda/adda/src/mpi/box/166</td>\n",
       "      <td>box</td>\n",
       "      <td>[0.0, 0.5, 1.0, 1.5, 2.0, 2.5, 3.0, 3.5, 4.0, ...</td>\n",
       "      <td>[1082.9996549, 1078.6858959, 1073.1130423, 106...</td>\n",
       "      <td>[-0.025237628701297934, -0.02516023266565082, ...</td>\n",
       "      <td>NaN</td>\n",
       "      <td>NaN</td>\n",
       "      <td>NaN</td>\n",
       "      <td>1</td>\n",
       "    </tr>\n",
       "    <tr>\n",
       "      <th>1827</th>\n",
       "      <td>/home/saad/adda/adda/src/mpi/box/043</td>\n",
       "      <td>box</td>\n",
       "      <td>[0.0, 0.5, 1.0, 1.5, 2.0, 2.5, 3.0, 3.5, 4.0, ...</td>\n",
       "      <td>[1004.8936203, 1003.5883404, 1001.5473959, 998...</td>\n",
       "      <td>[-0.039522814269776295, -0.0398134307599415, -...</td>\n",
       "      <td>NaN</td>\n",
       "      <td>NaN</td>\n",
       "      <td>NaN</td>\n",
       "      <td>1</td>\n",
       "    </tr>\n",
       "    <tr>\n",
       "      <th>1828</th>\n",
       "      <td>/home/saad/adda/adda/src/mpi/box/371</td>\n",
       "      <td>box</td>\n",
       "      <td>[0.0, 0.5, 1.0, 1.5, 2.0, 2.5, 3.0, 3.5, 4.0, ...</td>\n",
       "      <td>[1222.2682573, 1221.3707726, 1217.4107856, 121...</td>\n",
       "      <td>[-0.0028517534654787934, -0.002615736743478054...</td>\n",
       "      <td>NaN</td>\n",
       "      <td>NaN</td>\n",
       "      <td>NaN</td>\n",
       "      <td>1</td>\n",
       "    </tr>\n",
       "    <tr>\n",
       "      <th>1829</th>\n",
       "      <td>/home/saad/adda/adda/src/mpi/box/909</td>\n",
       "      <td>box</td>\n",
       "      <td>[0.0, 0.5, 1.0, 1.5, 2.0, 2.5, 3.0, 3.5, 4.0, ...</td>\n",
       "      <td>[905.88759217, 904.97030581, 903.23176189, 900...</td>\n",
       "      <td>[-0.03285176080920998, -0.034228653804585105, ...</td>\n",
       "      <td>NaN</td>\n",
       "      <td>NaN</td>\n",
       "      <td>NaN</td>\n",
       "      <td>1</td>\n",
       "    </tr>\n",
       "    <tr>\n",
       "      <th>1830</th>\n",
       "      <td>/home/saad/adda/adda/src/mpi/box/505</td>\n",
       "      <td>box</td>\n",
       "      <td>[0.0, 0.5, 1.0, 1.5, 2.0, 2.5, 3.0, 3.5, 4.0, ...</td>\n",
       "      <td>[386.57200735, 391.04716657, 394.79747359, 397...</td>\n",
       "      <td>[0.18079155791723678, 0.1845713624268903, 0.18...</td>\n",
       "      <td>NaN</td>\n",
       "      <td>NaN</td>\n",
       "      <td>NaN</td>\n",
       "      <td>1</td>\n",
       "    </tr>\n",
       "  </tbody>\n",
       "</table>\n",
       "<p>1831 rows × 9 columns</p>\n",
       "</div>"
      ],
      "text/plain": [
       "                                     folder_path   Geometry  \\\n",
       "0     /home/saad/adda/adda/src/mpi/ellipsoid/593  ellipsoid   \n",
       "1     /home/saad/adda/adda/src/mpi/ellipsoid/530  ellipsoid   \n",
       "2     /home/saad/adda/adda/src/mpi/ellipsoid/192  ellipsoid   \n",
       "3     /home/saad/adda/adda/src/mpi/ellipsoid/301  ellipsoid   \n",
       "4     /home/saad/adda/adda/src/mpi/ellipsoid/315  ellipsoid   \n",
       "...                                          ...        ...   \n",
       "1826        /home/saad/adda/adda/src/mpi/box/166        box   \n",
       "1827        /home/saad/adda/adda/src/mpi/box/043        box   \n",
       "1828        /home/saad/adda/adda/src/mpi/box/371        box   \n",
       "1829        /home/saad/adda/adda/src/mpi/box/909        box   \n",
       "1830        /home/saad/adda/adda/src/mpi/box/505        box   \n",
       "\n",
       "                                                degrees  \\\n",
       "0     [0.0, 0.5, 1.0, 1.5, 2.0, 2.5, 3.0, 3.5, 4.0, ...   \n",
       "1     [0.0, 0.5, 1.0, 1.5, 2.0, 2.5, 3.0, 3.5, 4.0, ...   \n",
       "2     [0.0, 0.5, 1.0, 1.5, 2.0, 2.5, 3.0, 3.5, 4.0, ...   \n",
       "3     [0.0, 0.5, 1.0, 1.5, 2.0, 2.5, 3.0, 3.5, 4.0, ...   \n",
       "4     [0.0, 0.5, 1.0, 1.5, 2.0, 2.5, 3.0, 3.5, 4.0, ...   \n",
       "...                                                 ...   \n",
       "1826  [0.0, 0.5, 1.0, 1.5, 2.0, 2.5, 3.0, 3.5, 4.0, ...   \n",
       "1827  [0.0, 0.5, 1.0, 1.5, 2.0, 2.5, 3.0, 3.5, 4.0, ...   \n",
       "1828  [0.0, 0.5, 1.0, 1.5, 2.0, 2.5, 3.0, 3.5, 4.0, ...   \n",
       "1829  [0.0, 0.5, 1.0, 1.5, 2.0, 2.5, 3.0, 3.5, 4.0, ...   \n",
       "1830  [0.0, 0.5, 1.0, 1.5, 2.0, 2.5, 3.0, 3.5, 4.0, ...   \n",
       "\n",
       "                                                    S11  \\\n",
       "0     [579.32169002, 578.37349215, 576.67413162, 574...   \n",
       "1     [720.6810315, 719.07723358, 716.20631705, 712....   \n",
       "2     [507.6610584, 510.68503502, 513.33229809, 515....   \n",
       "3     [1258.4713395, 1260.4825706, 1258.4108878, 125...   \n",
       "4     [246.16756173, 245.07402439, 243.66840688, 241...   \n",
       "...                                                 ...   \n",
       "1826  [1082.9996549, 1078.6858959, 1073.1130423, 106...   \n",
       "1827  [1004.8936203, 1003.5883404, 1001.5473959, 998...   \n",
       "1828  [1222.2682573, 1221.3707726, 1217.4107856, 121...   \n",
       "1829  [905.88759217, 904.97030581, 903.23176189, 900...   \n",
       "1830  [386.57200735, 391.04716657, 394.79747359, 397...   \n",
       "\n",
       "                                               -S21/S11  y/x  z/x  orient  \\\n",
       "0     [-0.0025284434011946474, -0.002467295578494295...  NaN  NaN     NaN   \n",
       "1     [0.03716253757124174, 0.03706868468397214, 0.0...  NaN  NaN     NaN   \n",
       "2     [0.1141060166571957, 0.10851485728151346, 0.10...  NaN  NaN     NaN   \n",
       "3     [0.02651052823042856, 0.02678376353822151, 0.0...  NaN  NaN     NaN   \n",
       "4     [0.006683321859053457, 0.0061782237487988225, ...  NaN  NaN     NaN   \n",
       "...                                                 ...  ...  ...     ...   \n",
       "1826  [-0.025237628701297934, -0.02516023266565082, ...  NaN  NaN     NaN   \n",
       "1827  [-0.039522814269776295, -0.0398134307599415, -...  NaN  NaN     NaN   \n",
       "1828  [-0.0028517534654787934, -0.002615736743478054...  NaN  NaN     NaN   \n",
       "1829  [-0.03285176080920998, -0.034228653804585105, ...  NaN  NaN     NaN   \n",
       "1830  [0.18079155791723678, 0.1845713624268903, 0.18...  NaN  NaN     NaN   \n",
       "\n",
       "      label  \n",
       "0         0  \n",
       "1         0  \n",
       "2         0  \n",
       "3         0  \n",
       "4         0  \n",
       "...     ...  \n",
       "1826      1  \n",
       "1827      1  \n",
       "1828      1  \n",
       "1829      1  \n",
       "1830      1  \n",
       "\n",
       "[1831 rows x 9 columns]"
      ]
     },
     "execution_count": 2,
     "metadata": {},
     "output_type": "execute_result"
    }
   ],
   "source": [
    "data = pd.read_pickle(\"mueller_data.pkl\")\n",
    "data"
   ]
  },
  {
   "cell_type": "code",
   "execution_count": 3,
   "id": "4535fd80",
   "metadata": {},
   "outputs": [],
   "source": [
    "X = data['S11']\n",
    "#X = data['-S21/S11']\n",
    "y = data['label']\n",
    "X_train, X_test, y_train, y_test = train_test_split(X, y, test_size=0.25, random_state=42)"
   ]
  },
  {
   "cell_type": "code",
   "execution_count": 4,
   "id": "b1561681",
   "metadata": {},
   "outputs": [
    {
     "name": "stdout",
     "output_type": "stream",
     "text": [
      "(1373, 720)\n",
      "(458, 720)\n"
     ]
    }
   ],
   "source": [
    "def calc_norm(x):\n",
    "    return x/max(x)\n",
    "x_train = X_train.apply(calc_norm).to_numpy()\n",
    "x_test = X_test.apply(calc_norm).to_numpy()\n",
    "x_train = np.vstack(x_train)\n",
    "x_test = np.vstack(x_test)\n",
    "print(x_train.shape)\n",
    "print(x_test.shape)"
   ]
  },
  {
   "cell_type": "code",
   "execution_count": 5,
   "id": "374efd00",
   "metadata": {},
   "outputs": [
    {
     "data": {
      "text/plain": [
       "RandomForestClassifier(max_depth=128, random_state=0)"
      ]
     },
     "execution_count": 5,
     "metadata": {},
     "output_type": "execute_result"
    }
   ],
   "source": [
    "clf = RandomForestClassifier(max_depth=128, random_state=0)\n",
    "clf.fit(x_train, y_train)"
   ]
  },
  {
   "cell_type": "code",
   "execution_count": 6,
   "id": "a90727b7",
   "metadata": {
    "scrolled": true
   },
   "outputs": [],
   "source": [
    "#for i in range(100):\n",
    "#    print(clf.predict([x_test[i]]))"
   ]
  },
  {
   "cell_type": "code",
   "execution_count": 11,
   "id": "7e2d1f93",
   "metadata": {},
   "outputs": [],
   "source": [
    "import pickle\n",
    "pickle_out = open('classifier.pkl', 'wb')\n",
    "pickle.dump(clf, pickle_out)\n",
    "pickle_out.close()"
   ]
  },
  {
   "cell_type": "code",
   "execution_count": 7,
   "id": "36eca490",
   "metadata": {},
   "outputs": [
    {
     "data": {
      "text/plain": [
       "0.8951965065502183"
      ]
     },
     "execution_count": 7,
     "metadata": {},
     "output_type": "execute_result"
    }
   ],
   "source": [
    "clf.score(x_test, y_test)"
   ]
  },
  {
   "cell_type": "code",
   "execution_count": 17,
   "id": "09da818c",
   "metadata": {},
   "outputs": [
    {
     "name": "stdout",
     "output_type": "stream",
     "text": [
      "[1]\n"
     ]
    }
   ],
   "source": [
    "print(clf.predict([x_test[10]]))"
   ]
  },
  {
   "cell_type": "code",
   "execution_count": null,
   "id": "2e4355d7",
   "metadata": {},
   "outputs": [],
   "source": []
  },
  {
   "cell_type": "code",
   "execution_count": 42,
   "id": "b9b90273",
   "metadata": {},
   "outputs": [],
   "source": [
    "np.savetxt('test.csv', x_test, delimiter=',')"
   ]
  },
  {
   "cell_type": "code",
   "execution_count": null,
   "id": "c01d40cd",
   "metadata": {},
   "outputs": [],
   "source": []
  }
 ],
 "metadata": {
  "kernelspec": {
   "display_name": "Python 3 (ipykernel)",
   "language": "python",
   "name": "python3"
  },
  "language_info": {
   "codemirror_mode": {
    "name": "ipython",
    "version": 3
   },
   "file_extension": ".py",
   "mimetype": "text/x-python",
   "name": "python",
   "nbconvert_exporter": "python",
   "pygments_lexer": "ipython3",
   "version": "3.8.8"
  }
 },
 "nbformat": 4,
 "nbformat_minor": 5
}
